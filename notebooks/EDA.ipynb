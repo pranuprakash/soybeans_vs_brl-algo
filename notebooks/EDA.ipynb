{
  "cells": [
    {
      "cell_type": "code",
      "execution_count": null,
      "metadata": {
        "vscode": {
          "languageId": "plaintext"
        }
      },
      "outputs": [],
      "source": [
        "# Exploratory Data Analysis: Soybeans vs Brazilian Real\n",
        "\n",
        "This notebook performs comprehensive EDA on the relationship between soybean futures (ZS=F) and USD/BRL exchange rates.\n"
      ]
    },
    {
      "cell_type": "code",
      "execution_count": null,
      "metadata": {},
      "outputs": [],
      "source": [
        "import pandas as pd\n",
        "import numpy as np\n",
        "import matplotlib.pyplot as plt\n",
        "import seaborn as sns\n",
        "from statsmodels.tsa.stattools import adfuller, coint\n",
        "from scipy import stats\n",
        "import warnings\n",
        "warnings.filterwarnings('ignore')\n",
        "\n",
        "plt.style.use('seaborn-v0_8')\n",
        "sns.set_palette(\"husl\")\n",
        "plt.rcParams['figure.figsize'] = (12, 8)\n"
      ]
    },
    {
      "cell_type": "code",
      "execution_count": null,
      "metadata": {},
      "outputs": [],
      "source": [
        "## 1. Data Loading and Basic Statistics\n"
      ]
    },
    {
      "cell_type": "code",
      "execution_count": null,
      "metadata": {},
      "outputs": [],
      "source": [
        "# Load the data\n",
        "df = pd.read_csv(\"../data/raw_merged.csv\", index_col=0, parse_dates=True)\n",
        "print(f\"Data shape: {df.shape}\")\n",
        "print(f\"Date range: {df.index.min()} to {df.index.max()}\")\n",
        "print(f\"Missing values: {df.isnull().sum().to_dict()}\")\n",
        "\n",
        "df.head()\n"
      ]
    },
    {
      "cell_type": "code",
      "execution_count": null,
      "metadata": {},
      "outputs": [],
      "source": [
        "# Basic descriptive statistics\n",
        "print(\"Descriptive Statistics:\")\n",
        "print(df.describe())\n"
      ]
    },
    {
      "cell_type": "code",
      "execution_count": null,
      "metadata": {},
      "outputs": [],
      "source": [
        "## 2. Scatter Plot and Correlation Analysis\n"
      ]
    },
    {
      "cell_type": "code",
      "execution_count": null,
      "metadata": {},
      "outputs": [],
      "source": [
        "# Scatter plot with regression line\n",
        "plt.figure(figsize=(10, 8))\n",
        "sns.scatterplot(data=df, x='soy_usd', y='usdbrl', alpha=0.6, s=20)\n",
        "sns.regplot(data=df, x='soy_usd', y='usdbrl', scatter=False, color='red', linewidth=2)\n",
        "\n",
        "# Calculate correlation\n",
        "correlation = df['soy_usd'].corr(df['usdbrl'])\n",
        "plt.title(f'Soybean Price vs USD/BRL Exchange Rate\\nPearson ρ = {correlation:.4f}', \n",
        "          fontsize=14, fontweight='bold')\n",
        "plt.xlabel('Soybean Price (USD/bu)')\n",
        "plt.ylabel('USD/BRL Exchange Rate')\n",
        "plt.grid(True, alpha=0.3)\n",
        "plt.show()\n",
        "\n",
        "print(f\"Pearson correlation coefficient: {correlation:.4f}\")\n"
      ]
    },
    {
      "cell_type": "code",
      "execution_count": null,
      "metadata": {},
      "outputs": [],
      "source": [
        "## 3. ADF Stationarity Tests\n"
      ]
    },
    {
      "cell_type": "code",
      "execution_count": null,
      "metadata": {},
      "outputs": [],
      "source": [
        "def adf_test(series, name):\n",
        "    \"\"\"Perform Augmented Dickey-Fuller test\"\"\"\n",
        "    result = adfuller(series.dropna())\n",
        "    print(f\"\\nADF Test Results for {name}:\")\n",
        "    print(f\"ADF Statistic: {result[0]:.6f}\")\n",
        "    print(f\"p-value: {result[1]:.6f}\")\n",
        "    \n",
        "    if result[1] <= 0.05:\n",
        "        print(f\"✓ {name} is stationary (reject null hypothesis)\")\n",
        "    else:\n",
        "        print(f\"✗ {name} is non-stationary (fail to reject null hypothesis)\")\n",
        "\n",
        "# Test levels\n",
        "adf_test(df['soy_usd'], 'Soybean Price (Levels)')\n",
        "adf_test(df['usdbrl'], 'USD/BRL (Levels)')\n",
        "\n",
        "# Calculate log returns\n",
        "df['soy_returns'] = np.log(df['soy_usd']).diff()\n",
        "df['brl_returns'] = np.log(df['usdbrl']).diff()\n",
        "\n",
        "# Test log returns\n",
        "adf_test(df['soy_returns'], 'Soybean Log Returns')\n",
        "adf_test(df['brl_returns'], 'USD/BRL Log Returns')\n"
      ]
    },
    {
      "cell_type": "code",
      "execution_count": null,
      "metadata": {},
      "outputs": [],
      "source": [
        "## 4. Engle-Granger Cointegration Test\n"
      ]
    },
    {
      "cell_type": "code",
      "execution_count": null,
      "metadata": {},
      "outputs": [],
      "source": [
        "# Engle-Granger cointegration test\n",
        "clean_data = df[['soy_usd', 'usdbrl']].dropna()\n",
        "coint_result = coint(clean_data['usdbrl'], clean_data['soy_usd'])\n",
        "\n",
        "print(\"Engle-Granger Cointegration Test:\")\n",
        "print(f\"Cointegration Statistic: {coint_result[0]:.6f}\")\n",
        "print(f\"p-value: {coint_result[1]:.6f}\")\n",
        "\n",
        "if coint_result[1] <= 0.05:\n",
        "    print(\"✓ Series are cointegrated (reject null hypothesis)\")\n",
        "else:\n",
        "    print(\"✗ Series are not cointegrated (fail to reject null hypothesis)\")\n"
      ]
    },
    {
      "cell_type": "code",
      "execution_count": null,
      "metadata": {},
      "outputs": [],
      "source": [
        "## 5. Rolling 250-Day Beta Analysis\n"
      ]
    },
    {
      "cell_type": "code",
      "execution_count": null,
      "metadata": {},
      "outputs": [],
      "source": [
        "from sklearn.linear_model import LinearRegression\n",
        "\n",
        "def calculate_rolling_beta(df, window=250):\n",
        "    \"\"\"Calculate rolling beta using 250-day window\"\"\"\n",
        "    betas = []\n",
        "    \n",
        "    for i in range(window, len(df)):\n",
        "        window_data = df.iloc[i-window:i]\n",
        "        clean_window = window_data[['soy_usd', 'usdbrl']].dropna()\n",
        "        \n",
        "        if len(clean_window) < window * 0.8:\n",
        "            betas.append(np.nan)\n",
        "            continue\n",
        "        \n",
        "        X = clean_window['soy_usd'].values.reshape(-1, 1)\n",
        "        y = clean_window['usdbrl'].values\n",
        "        \n",
        "        reg = LinearRegression().fit(X, y)\n",
        "        beta = reg.coef_[0]\n",
        "        betas.append(beta)\n",
        "    \n",
        "    return pd.Series(betas, index=df.index[window:])\n",
        "\n",
        "# Calculate rolling beta\n",
        "rolling_beta = calculate_rolling_beta(df)\n",
        "\n",
        "print(f\"Beta statistics:\")\n",
        "print(f\"Mean: {rolling_beta.mean():.4f}\")\n",
        "print(f\"Std: {rolling_beta.std():.4f}\")\n",
        "print(f\"Min: {rolling_beta.min():.4f}\")\n",
        "print(f\"Max: {rolling_beta.max():.4f}\")\n"
      ]
    },
    {
      "cell_type": "code",
      "execution_count": null,
      "metadata": {},
      "outputs": [],
      "source": [
        "# Plot rolling beta\n",
        "plt.figure(figsize=(15, 8))\n",
        "plt.plot(rolling_beta.index, rolling_beta.values, linewidth=1, alpha=0.8, color='darkblue')\n",
        "plt.axhline(y=rolling_beta.mean(), color='red', linestyle='--', alpha=0.7, \n",
        "           label=f'Mean β = {rolling_beta.mean():.4f}')\n",
        "plt.fill_between(rolling_beta.index, \n",
        "                rolling_beta.mean() - rolling_beta.std(),\n",
        "                rolling_beta.mean() + rolling_beta.std(),\n",
        "                alpha=0.2, color='red', label='±1σ Band')\n",
        "plt.title('Rolling 250-Day Beta: USD/BRL vs Soybean Prices', fontsize=14, fontweight='bold')\n",
        "plt.ylabel('Beta Coefficient')\n",
        "plt.xlabel('Date')\n",
        "plt.legend()\n",
        "plt.grid(True, alpha=0.3)\n",
        "plt.show()\n"
      ]
    },
    {
      "cell_type": "code",
      "execution_count": null,
      "metadata": {},
      "outputs": [],
      "source": [
        "## 6. Z-Score Regime Plot (2010-2023)\n"
      ]
    },
    {
      "cell_type": "code",
      "execution_count": null,
      "metadata": {},
      "outputs": [],
      "source": [
        "def calculate_rolling_zscore(df, window=250):\n",
        "    \"\"\"Calculate rolling regression z-scores\"\"\"\n",
        "    z_scores = []\n",
        "    \n",
        "    for i in range(window, len(df)):\n",
        "        window_data = df.iloc[i-window:i]\n",
        "        clean_window = window_data[['soy_usd', 'usdbrl']].dropna()\n",
        "        \n",
        "        if len(clean_window) < window * 0.8:\n",
        "            z_scores.append(np.nan)\n",
        "            continue\n",
        "        \n",
        "        X = clean_window['soy_usd'].values.reshape(-1, 1)\n",
        "        y = clean_window['usdbrl'].values\n",
        "        \n",
        "        reg = LinearRegression().fit(X, y)\n",
        "        \n",
        "        # Current observation\n",
        "        current_soy = df.iloc[i]['soy_usd']\n",
        "        current_brl = df.iloc[i]['usdbrl']\n",
        "        \n",
        "        if pd.isna(current_soy) or pd.isna(current_brl):\n",
        "            z_scores.append(np.nan)\n",
        "            continue\n",
        "        \n",
        "        # Calculate z-score\n",
        "        predicted = reg.predict([[current_soy]])[0]\n",
        "        residual = current_brl - predicted\n",
        "        \n",
        "        window_predictions = reg.predict(X)\n",
        "        window_residuals = y - window_predictions\n",
        "        residual_std = np.std(window_residuals)\n",
        "        \n",
        "        z_score = residual / residual_std if residual_std > 0 else 0\n",
        "        z_scores.append(z_score)\n",
        "    \n",
        "    return pd.Series(z_scores, index=df.index[window:])\n",
        "\n",
        "# Calculate z-scores\n",
        "z_scores = calculate_rolling_zscore(df)\n",
        "\n",
        "print(f\"Z-score statistics:\")\n",
        "print(f\"Mean: {z_scores.mean():.4f}\")\n",
        "print(f\"Std: {z_scores.std():.4f}\")\n",
        "print(f\"Values > 2σ: {(abs(z_scores) > 2).sum()} ({(abs(z_scores) > 2).mean()*100:.1f}%)\")\n",
        "print(f\"Values > 1.5σ: {(abs(z_scores) > 1.5).sum()} ({(abs(z_scores) > 1.5).mean()*100:.1f}%)\")\n"
      ]
    },
    {
      "cell_type": "code",
      "execution_count": null,
      "metadata": {},
      "outputs": [],
      "source": [
        "# Plot z-score regime for 2010-2023\n",
        "regime_data = z_scores[:'2023-12-31']\n",
        "\n",
        "fig, (ax1, ax2) = plt.subplots(2, 1, figsize=(15, 10))\n",
        "\n",
        "# Z-score time series\n",
        "ax1.plot(regime_data.index, regime_data.values, linewidth=1, alpha=0.8, color='navy')\n",
        "ax1.axhline(y=2, color='red', linestyle='--', alpha=0.7, label='±2σ Trading Bands')\n",
        "ax1.axhline(y=-2, color='red', linestyle='--', alpha=0.7)\n",
        "ax1.axhline(y=1.5, color='orange', linestyle='--', alpha=0.7, label='±1.5σ Fallback Bands')\n",
        "ax1.axhline(y=-1.5, color='orange', linestyle='--', alpha=0.7)\n",
        "ax1.axhline(y=0, color='black', linestyle='-', alpha=0.3)\n",
        "ax1.fill_between(regime_data.index, -2, 2, alpha=0.1, color='red')\n",
        "ax1.set_title('Z-Score Regime Analysis (2010-2023)', fontsize=14, fontweight='bold')\n",
        "ax1.set_ylabel('Z-Score')\n",
        "ax1.legend()\n",
        "ax1.grid(True, alpha=0.3)\n",
        "\n",
        "# Z-score histogram\n",
        "ax2.hist(regime_data.dropna(), bins=50, alpha=0.7, density=True, color='skyblue', edgecolor='black')\n",
        "ax2.axvline(x=2, color='red', linestyle='--', linewidth=2, label='2σ Threshold')\n",
        "ax2.axvline(x=-2, color='red', linestyle='--', linewidth=2)\n",
        "ax2.axvline(x=1.5, color='orange', linestyle='--', linewidth=2, label='1.5σ Fallback')\n",
        "ax2.axvline(x=-1.5, color='orange', linestyle='--', linewidth=2)\n",
        "ax2.set_title('Z-Score Distribution', fontsize=12)\n",
        "ax2.set_xlabel('Z-Score')\n",
        "ax2.set_ylabel('Density')\n",
        "ax2.legend()\n",
        "ax2.grid(True, alpha=0.3)\n",
        "\n",
        "plt.tight_layout()\n",
        "plt.show()\n"
      ]
    }
  ],
  "metadata": {
    "language_info": {
      "name": "python"
    }
  },
  "nbformat": 4,
  "nbformat_minor": 2
}
